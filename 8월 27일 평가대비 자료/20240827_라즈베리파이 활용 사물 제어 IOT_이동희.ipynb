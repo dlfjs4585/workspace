{
 "cells": [
  {
   "cell_type": "markdown",
   "metadata": {},
   "source": [
    "### 라즈베리파이 사물 제어 IOT 평가"
   ]
  },
  {
   "cell_type": "markdown",
   "metadata": {},
   "source": [
    "1. 키보드로 두 수를 입력받아 큰 수부터 출력하는 프로그램을 작성하시요. 단, 입력받는 두 수는 중복이 없다고 가정한다."
   ]
  },
  {
   "cell_type": "code",
   "execution_count": 12,
   "metadata": {},
   "outputs": [
    {
     "name": "stdout",
     "output_type": "stream",
     "text": [
      "7\n",
      "5\n"
     ]
    }
   ],
   "source": [
    "# 1번 문제 답안 작성\n",
    "num1 = int(input())\n",
    "num2 = int(input())\n",
    "maxValue = 0\n",
    "minValue = 0\n",
    "\n",
    "if num1 > num2 :\n",
    "  maxValue = num1\n",
    "  minValue = num2\n",
    "elif num2 > num1 :\n",
    "  maxValue = num2\n",
    "  minValue = num1\n",
    "print(maxValue)\n",
    "print(minValue)"
   ]
  },
  {
   "cell_type": "markdown",
   "metadata": {},
   "source": [
    "2. 키보드로 세 수를 입력받고,입력받은 세 수를 리스트에 저장하시오.<br> 그 후 리스트에 저장된 수 중 가장 큰 수와 가장 작은 수의 차를 출력하시오."
   ]
  },
  {
   "cell_type": "code",
   "execution_count": 25,
   "metadata": {},
   "outputs": [
    {
     "name": "stdout",
     "output_type": "stream",
     "text": [
      "41\n"
     ]
    }
   ],
   "source": [
    "# 2번 문제 답안 작성\n",
    "num3 = int(input())\n",
    "num4 = int(input())\n",
    "num5 = int(input())\n",
    "\n",
    "numList = [num3, num4, num5]\n",
    "\n",
    "print(max(numList) - min(numList))"
   ]
  },
  {
   "cell_type": "markdown",
   "metadata": {},
   "source": [
    "3. 매개변수로 두 정수를 받아, 두 정수 사이의(두 정수 포함) 모든 정수를 갖는 리스트를 리턴하는 함수를 구현하시오."
   ]
  },
  {
   "cell_type": "code",
   "execution_count": 1,
   "metadata": {},
   "outputs": [
    {
     "data": {
      "text/plain": [
       "[4, 5, 6, 7, 8, 9]"
      ]
     },
     "execution_count": 1,
     "metadata": {},
     "output_type": "execute_result"
    }
   ],
   "source": [
    "# 3번 문제 답안 작성\n",
    "\n",
    "\n",
    "\n",
    "def numReturnFuction(num6, num7) :\n",
    "  numList = []\n",
    "  if num6 > num7 :\n",
    "    maxValue = num6\n",
    "    minValue = num7\n",
    "    for i in range(minValue, maxValue+1) :\n",
    "      numList.append(i)\n",
    "  elif num7 > num6 :\n",
    "    maxValue = num7\n",
    "    minValue = num6\n",
    "    for i in range(minValue, maxValue+1) :\n",
    "      numList.append(i)\n",
    "  return numList\n",
    "\n",
    "\n",
    "numReturnFuction(int(input()), int(input()))"
   ]
  },
  {
   "cell_type": "markdown",
   "metadata": {},
   "source": [
    "4. 아래 제시된 phone 객체에 제조사, 모델명, 가격 정보를 키보드로 입력받아,   \n",
    "입력받은 내용을 추가하고 phone 정보를 출력하시오."
   ]
  },
  {
   "cell_type": "code",
   "execution_count": 27,
   "metadata": {},
   "outputs": [
    {
     "name": "stdout",
     "output_type": "stream",
     "text": [
      "{'barnd': '삼성', 'modelName': '겔럭시 폴드 2', 'price': '200000'}\n"
     ]
    }
   ],
   "source": [
    "phone = {}\n",
    "\n",
    "# 4번 문제 답안 작성\n",
    "\n",
    "phone['barnd'] = input()\n",
    "phone['modelName'] = input()\n",
    "phone['price'] = input()\n",
    "\n",
    "print(phone)"
   ]
  },
  {
   "cell_type": "markdown",
   "metadata": {},
   "source": [
    "5. 아래 데이터는 자바반과 자반에 소속된 학생들의 정보이다.  \n",
    "나이가 30살 이상인 학생들의 점수의 합을 출력하세요."
   ]
  },
  {
   "cell_type": "code",
   "execution_count": 60,
   "metadata": {},
   "outputs": [
    {
     "name": "stdout",
     "output_type": "stream",
     "text": [
      "250\n"
     ]
    }
   ],
   "source": [
    "javaClass= {\n",
    "  'calssName' : '자바반',\n",
    "  'teacher' : '김자바',\n",
    "  'studentList' : [\n",
    "    {'name' : '홍길동', 'age': 31, 'score' : 85},\n",
    "    {'name' : '이순신', 'age': 35, 'score' : 95},\n",
    "    {'name' : '유관순', 'age': 29, 'score' : 80},\n",
    "    {'name' : '장영실', 'age': 37, 'score' : 70},\n",
    "    {'name' : '신사임당', 'age': 25, 'score' : 65},\n",
    "  ]\n",
    "}\n",
    "\n",
    "# 5번 문제 답안 작성\n",
    "\n",
    "score = 0\n",
    "\n",
    "for i in javaClass['studentList'] :\n",
    "  if i['age'] >= 30 :\n",
    "    score += i['score']\n",
    "\n",
    "print(score)"
   ]
  },
  {
   "cell_type": "markdown",
   "metadata": {},
   "source": [
    "다음 딕셔너리 데이터를 참고하여 아래 문제들을 해결하시오."
   ]
  },
  {
   "cell_type": "code",
   "execution_count": 3,
   "metadata": {},
   "outputs": [
    {
     "name": "stdout",
     "output_type": "stream",
     "text": [
      "{'행정기관': ['서울특별시', '부산광역시', '대구광역시', '인천광역시', '울산광역시'], '0~4세': [214651, 68006, 53515, 69453, 29835], '5~9세': [210833, 68704, 58332, 68555, 29331], '10~14세': [269171, 94802, 91268, 86574, 29035], '15~19세': [335828, 124564, 101110, 106435, 49119], '20~24세': [343797, 125907, 96078, 102297, 43937]}\n"
     ]
    }
   ],
   "source": [
    "# 2012년 광역시별 25세 미만 연령별 인구 데이터\n",
    "population = {\n",
    "    '행정기관' : ['서울특별시', '부산광역시', '대구광역시', '인천광역시', '울산광역시'],\n",
    "    '0~4세' : [214651, 68006, 53515, 69453, 29835],\n",
    "    '5~9세' : [210833, 68704, 58332, 68555, 29331],\n",
    "    '10~14세' : [269171, 94802, 91268, 86574, 29035],\n",
    "    '15~19세' : [335828, 124564, 101110, 106435, 49119],\n",
    "    '20~24세' : [343797, 125907, 96078, 102297, 43937]\n",
    "}\n",
    "\n",
    "print(population)\n"
   ]
  },
  {
   "cell_type": "markdown",
   "metadata": {},
   "source": [
    "6. 2012년 기준 대한민국에서 25세 미만의 인구수 중 인구가 가장 많은 연령대를 출력하시오."
   ]
  },
  {
   "cell_type": "code",
   "execution_count": 5,
   "metadata": {},
   "outputs": [
    {
     "name": "stdout",
     "output_type": "stream",
     "text": [
      "인구수가 가장 많은 나이는 15~19세이고, 인구수 : 717056\n"
     ]
    }
   ],
   "source": [
    "# 6번 문제 답안 작성\n",
    "\n",
    "maxPopulation = 0\n",
    "maxPopulationAge =''\n",
    "\n",
    "for i in ['0~4세', '5~9세', '10~14세', '15~19세', '20~24세'] :\n",
    "  totalPopulation = sum(population[i])\n",
    "  if totalPopulation > maxPopulation :\n",
    "    maxPopulation = totalPopulation\n",
    "    maxPopulationAge = i\n",
    "\n",
    "print(f'인구수가 가장 많은 나이는 {maxPopulationAge}이고, 인구수 : {maxPopulation}')\n",
    "\n"
   ]
  },
  {
   "cell_type": "markdown",
   "metadata": {},
   "source": [
    "7. '총 인구수' 라는 키를 추가하고, 해당 키에 0세부터 24세까지의 인구 합을 데이터로 하여 population 데이터에 추가하시오."
   ]
  },
  {
   "cell_type": "code",
   "execution_count": 4,
   "metadata": {},
   "outputs": [
    {
     "data": {
      "text/plain": [
       "{'행정기관': ['서울특별시', '부산광역시', '대구광역시', '인천광역시', '울산광역시'],\n",
       " '0~4세': [214651, 68006, 53515, 69453, 29835],\n",
       " '5~9세': [210833, 68704, 58332, 68555, 29331],\n",
       " '10~14세': [269171, 94802, 91268, 86574, 29035],\n",
       " '15~19세': [335828, 124564, 101110, 106435, 49119],\n",
       " '20~24세': [343797, 125907, 96078, 102297, 43937],\n",
       " '총 인구수': [435460, 435755, 570850, 717056, 712016]}"
      ]
     },
     "execution_count": 4,
     "metadata": {},
     "output_type": "execute_result"
    }
   ],
   "source": [
    "# 7번 문제 답안 작성\n",
    "\n",
    "result = []\n",
    "\n",
    "for i in ['0~4세', '5~9세', '10~14세', '15~19세', '20~24세'] :\n",
    "  result.append(sum(population[i]))\n",
    "\n",
    "population['총 인구수'] = result\n",
    "\n",
    "population"
   ]
  }
 ],
 "metadata": {
  "kernelspec": {
   "display_name": "Python 3",
   "language": "python",
   "name": "python3"
  },
  "language_info": {
   "codemirror_mode": {
    "name": "ipython",
    "version": 3
   },
   "file_extension": ".py",
   "mimetype": "text/x-python",
   "name": "python",
   "nbconvert_exporter": "python",
   "pygments_lexer": "ipython3",
   "version": "3.12.5"
  }
 },
 "nbformat": 4,
 "nbformat_minor": 2
}
