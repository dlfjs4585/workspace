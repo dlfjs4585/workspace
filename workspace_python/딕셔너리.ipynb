{
 "cells": [
  {
   "cell_type": "markdown",
   "metadata": {},
   "source": [
    "# 딕셔너리(Dictionary)\n",
    "1. 여러 데이터가 key와 value의 쌍으로 저장한 데이터"
   ]
  },
  {
   "cell_type": "code",
   "execution_count": 2,
   "metadata": {},
   "outputs": [
    {
     "name": "stdout",
     "output_type": "stream",
     "text": [
      "{'name': 'kim', 'age': 20}\n"
     ]
    }
   ],
   "source": [
    "# 딕셔너리 생성\n",
    "dic1 = {}\n",
    "dic2 = {'name' : 'kim', 'age' : 20}\n",
    "print(dic2)\n"
   ]
  },
  {
   "cell_type": "code",
   "execution_count": 4,
   "metadata": {},
   "outputs": [
    {
     "name": "stdout",
     "output_type": "stream",
     "text": [
      "{'stuNum': 3, 'stuName': 'kim'}\n"
     ]
    }
   ],
   "source": [
    "# 중복된 key값을 가질 수 없음.\n",
    "dic3 = {\n",
    "  'stuNum' : 1,\n",
    "  'stuName' : 'kim',\n",
    "  'stuNum' : 3\n",
    "}\n",
    "\n",
    "# 중복된 값은 나중에 들어오는 값으로 나온다.\n",
    "print(dic3)"
   ]
  },
  {
   "cell_type": "code",
   "execution_count": 8,
   "metadata": {},
   "outputs": [
    {
     "name": "stdout",
     "output_type": "stream",
     "text": [
      "{'stuName': 'lee'}\n"
     ]
    }
   ],
   "source": [
    "# 데이터 추가\n",
    "# dic['key'] = value\n",
    "dic1 = {}\n",
    "dic1['stuName'] = 'kim'\n",
    "\n",
    "# stuName이라는 key 값을 'lee'로 변경\n",
    "dic1['stuName'] = 'lee'\n",
    "print(dic1)"
   ]
  },
  {
   "cell_type": "code",
   "execution_count": 11,
   "metadata": {},
   "outputs": [
    {
     "name": "stdout",
     "output_type": "stream",
     "text": [
      "{'modelName': 'iPhone', 'price': 10000}\n"
     ]
    }
   ],
   "source": [
    "# 데이터 삭제\n",
    "phone = {\n",
    "  'modelName' : 'iPhone',\n",
    "  'price' : 10000,\n",
    "  'color' : 'siver'\n",
    "}\n",
    "\n",
    "del phone['color']\n",
    "print(phone)"
   ]
  },
  {
   "cell_type": "code",
   "execution_count": 23,
   "metadata": {},
   "outputs": [
    {
     "name": "stdout",
     "output_type": "stream",
     "text": [
      "samsung\n",
      "dict_keys(['brand', 'price', 'inch', 'color'])\n",
      "dict_values(['samsung', 20000, 50, 'white'])\n",
      "brand samsung\n",
      "price 20000\n",
      "inch 50\n",
      "color white\n"
     ]
    }
   ],
   "source": [
    "# 데이터 출력\n",
    "monitor = {\n",
    "  'brand' : 'samsung',\n",
    "  'price' : 20000,\n",
    "  'inch' : 50,\n",
    "  'color' : 'white'\n",
    "}\n",
    "\n",
    "# 브랜드 출력\n",
    "print(monitor['brand'])\n",
    "\n",
    "# 모든 key 값을 출력\n",
    "print(monitor.keys())\n",
    "\n",
    "# 모든 value 값을 출력\n",
    "print(monitor.values())\n",
    "\n",
    "# 반복문을 이용한 key와 value를 출력\n",
    "for i in monitor.keys():\n",
    "  print(i, monitor[i])\n"
   ]
  },
  {
   "cell_type": "code",
   "execution_count": 34,
   "metadata": {},
   "outputs": [
    {
     "name": "stdout",
     "output_type": "stream",
     "text": [
      "game\n",
      "lee\n"
     ]
    }
   ],
   "source": [
    "intro = {\n",
    "  'name' : 'kim',\n",
    "  'age' : 20,\n",
    "  'hobby' : ['game', 'study'],\n",
    "  'family' : {\n",
    "    'mother' : 'lee',\n",
    "    'father' : 'kim'\n",
    "  }\n",
    "}\n",
    "\n",
    "# intro 데이터에 첫번째 취미 출력\n",
    "# 어머니의 이름을 출력\n",
    "\n",
    "print(intro['hobby'][0])\n",
    "\n",
    "print(intro['family']['mother'])"
   ]
  },
  {
   "cell_type": "code",
   "execution_count": 36,
   "metadata": {},
   "outputs": [],
   "source": [
    "# 아래의 데이터를 참고하여 문제 해결\n",
    "student = {\n",
    "  'name' : 'hong',\n",
    "  'korScore' : 0,\n",
    "  'mathScore' : 0\n",
    "}"
   ]
  },
  {
   "cell_type": "code",
   "execution_count": 37,
   "metadata": {},
   "outputs": [
    {
     "name": "stdout",
     "output_type": "stream",
     "text": [
      "{'name': 'hong', 'korScore': 50, 'mathScore': 60, 'totalScore': 110}\n"
     ]
    }
   ],
   "source": [
    "# 위에서 선언한 student데이터의 국어점수 및 수학점수를 키보드로 입력받은 데이터로 변경\n",
    "# 국어점수와 수학점수가 변경되었다면 총점을 저장한다.\n",
    "# 총점의 key = 'totalScore'라고 지정.\n",
    "\n",
    "student['korScore'] = int(input())\n",
    "student['mathScore'] = int(input())\n",
    "student['totalScore'] = student['korScore'] + student['mathScore']\n",
    "\n",
    "print(student)\n"
   ]
  }
 ],
 "metadata": {
  "kernelspec": {
   "display_name": "Python 3",
   "language": "python",
   "name": "python3"
  },
  "language_info": {
   "codemirror_mode": {
    "name": "ipython",
    "version": 3
   },
   "file_extension": ".py",
   "mimetype": "text/x-python",
   "name": "python",
   "nbconvert_exporter": "python",
   "pygments_lexer": "ipython3",
   "version": "3.12.5"
  }
 },
 "nbformat": 4,
 "nbformat_minor": 2
}
