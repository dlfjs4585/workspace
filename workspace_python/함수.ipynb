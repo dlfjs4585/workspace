{
 "cells": [
  {
   "cell_type": "code",
   "execution_count": 2,
   "metadata": {},
   "outputs": [
    {
     "name": "stdout",
     "output_type": "stream",
     "text": [
      "hello\n"
     ]
    }
   ],
   "source": [
    "# 함수 선언\n",
    "\n",
    "def hello() :\n",
    "  print('hello')\n",
    "\n",
    "hello()\n"
   ]
  },
  {
   "cell_type": "code",
   "execution_count": 5,
   "metadata": {},
   "outputs": [
    {
     "data": {
      "text/plain": [
       "30"
      ]
     },
     "execution_count": 5,
     "metadata": {},
     "output_type": "execute_result"
    }
   ],
   "source": [
    "# 리턴이 있는 함수\n",
    "\n",
    "def getSum() :\n",
    "  return 10 + 20\n",
    "\n",
    "getSum()"
   ]
  },
  {
   "cell_type": "code",
   "execution_count": 7,
   "metadata": {},
   "outputs": [
    {
     "name": "stdout",
     "output_type": "stream",
     "text": [
      "30\n"
     ]
    }
   ],
   "source": [
    "print(getSum())"
   ]
  },
  {
   "cell_type": "code",
   "execution_count": 10,
   "metadata": {},
   "outputs": [
    {
     "name": "stdout",
     "output_type": "stream",
     "text": [
      "10 20\n"
     ]
    }
   ],
   "source": [
    "# 파이썬은 함수에서 리턴을 여러개 할 수 있다\n",
    "\n",
    "def getNumbers() :\n",
    "  return 10, 20\n",
    "\n",
    "result1, result2 = getNumbers()\n",
    "print(result1, result2)"
   ]
  },
  {
   "cell_type": "code",
   "execution_count": 12,
   "metadata": {},
   "outputs": [
    {
     "name": "stdout",
     "output_type": "stream",
     "text": [
      "50\n"
     ]
    }
   ],
   "source": [
    "# 매개변수가 있는 함수\n",
    "\n",
    "def getMulti(num1, num2) : \n",
    "  return num1 * num2\n",
    "\n",
    "print(getMulti(10, 5))"
   ]
  },
  {
   "cell_type": "code",
   "execution_count": 16,
   "metadata": {},
   "outputs": [
    {
     "name": "stdout",
     "output_type": "stream",
     "text": [
      "13\n"
     ]
    }
   ],
   "source": [
    "# 매개변수에 default 값을 지정할 수 있다.\n",
    "\n",
    "def getSum(num1, num2, num3 = 10) :\n",
    "  return num1 + num2 + num3\n",
    "\n",
    "print(getSum(1,2))"
   ]
  },
  {
   "cell_type": "code",
   "execution_count": 17,
   "metadata": {},
   "outputs": [],
   "source": [
    "# 매개변수에 들어가는 인자를 이름으로 지정할 수 있다.\n",
    "\n",
    "def setMember(name, addr, age) :\n",
    "  print(f'이름은 : {name}')\n",
    "  print(f'주소는 : {addr}')\n",
    "  print(f'나이는 :  {age}')"
   ]
  },
  {
   "cell_type": "code",
   "execution_count": 20,
   "metadata": {},
   "outputs": [
    {
     "name": "stdout",
     "output_type": "stream",
     "text": [
      "이름은 : 홍\n",
      "주소는 : 울산\n",
      "나이는 :  20\n",
      "이름은 : 홍\n",
      "주소는 : 대구\n",
      "나이는 :  11\n"
     ]
    }
   ],
   "source": [
    "setMember('홍', '울산', 20)\n",
    "\n",
    "# 매개변수를 호출해서 적으면 순서에 상관없이 작성가능.\n",
    "setMember(name = '홍', addr = '대구', age = 11)"
   ]
  },
  {
   "cell_type": "code",
   "execution_count": null,
   "metadata": {},
   "outputs": [],
   "source": [
    "# 매개변수로 정수로 이루어진 두 개의 리스트가 들어올 때\n",
    "# 두 리스트의 모든 요소 중 가장 큰 값을 리턴하는 함수\n",
    "\n",
    "def listFuction(intList1, intList2) :\n",
    "  return max(intList1 + intList2)"
   ]
  },
  {
   "cell_type": "code",
   "execution_count": 21,
   "metadata": {},
   "outputs": [
    {
     "name": "stdout",
     "output_type": "stream",
     "text": [
      "['a', 'o', 'd']\n"
     ]
    }
   ],
   "source": [
    "# 매개변수로 세개의 문자열이 전달되면\n",
    "# 세 문자열의 2번째 글자를 모든 리스트를 리턴하는 함수\n",
    "# 단 매개변수로 전달되는 문자열은 모두 길이가 3이상인 문자열만 들어온다고 가정한다.\n",
    "# ex) 'school', 'phone', 'home' -> ['h','o','m']\n",
    "\n",
    "def getWord(str1, str2, str3) :\n",
    "  return [str1[2], str2[2], str3[2]]\n",
    "\n",
    "print(getWord('load', 'phone', 'mode'))"
   ]
  }
 ],
 "metadata": {
  "kernelspec": {
   "display_name": "Python 3",
   "language": "python",
   "name": "python3"
  },
  "language_info": {
   "codemirror_mode": {
    "name": "ipython",
    "version": 3
   },
   "file_extension": ".py",
   "mimetype": "text/x-python",
   "name": "python",
   "nbconvert_exporter": "python",
   "pygments_lexer": "ipython3",
   "version": "3.12.5"
  }
 },
 "nbformat": 4,
 "nbformat_minor": 2
}
