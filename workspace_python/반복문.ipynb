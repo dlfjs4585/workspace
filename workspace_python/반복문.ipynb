{
 "cells": [
  {
   "cell_type": "code",
   "execution_count": 2,
   "metadata": {},
   "outputs": [
    {
     "name": "stdout",
     "output_type": "stream",
     "text": [
      "2\n",
      "4\n",
      "6\n",
      "8\n"
     ]
    }
   ],
   "source": [
    "# 파이썬은 for-each문만 존재함\n",
    "\n",
    "for i in [1,2,3,4] : \n",
    "  print(i*2)"
   ]
  },
  {
   "cell_type": "code",
   "execution_count": 3,
   "metadata": {},
   "outputs": [
    {
     "name": "stdout",
     "output_type": "stream",
     "text": [
      "4\n",
      "5\n"
     ]
    }
   ],
   "source": [
    "for i in [1,2,3,4,5,] : \n",
    "  if i > 3 : \n",
    "    print(i)"
   ]
  },
  {
   "cell_type": "code",
   "execution_count": 5,
   "metadata": {},
   "outputs": [
    {
     "name": "stdout",
     "output_type": "stream",
     "text": [
      "0\n",
      "1\n",
      "2\n",
      "3\n",
      "4\n"
     ]
    }
   ],
   "source": [
    "# range(a, b) : a부터 b 이전까지 숫자를 1씩 증가시키며 나열하는 함수\n",
    "# range(5) : 첫번째 매개변수를 0으로 지정, () <- 괄호 안에 들어간 숫자 만큼 반복한다고 생각.\n",
    "\n",
    "for i in range(5) : \n",
    "  print(i)"
   ]
  },
  {
   "cell_type": "code",
   "execution_count": 15,
   "metadata": {},
   "outputs": [
    {
     "name": "stdout",
     "output_type": "stream",
     "text": [
      "4\n"
     ]
    }
   ],
   "source": [
    "# 1. 1~10까지의 정수 중 짝수의 개수 출력\n",
    "\n",
    "cnt = 0\n",
    "\n",
    "for i in range(1, 10) :\n",
    "  if i % 2 == 0 :\n",
    "    cnt = cnt +1\n",
    "print(cnt)"
   ]
  },
  {
   "cell_type": "code",
   "execution_count": 22,
   "metadata": {},
   "outputs": [
    {
     "name": "stdout",
     "output_type": "stream",
     "text": [
      "3 6 9 12 15 18 6\n"
     ]
    }
   ],
   "source": [
    "# 2. 1~20까지의 정수 중에서 3의 배수의 갯수를 출력하고, 3의 배수도 모두 출력\n",
    "\n",
    "cnt = 0\n",
    "\n",
    "for i in range(1, 20) :\n",
    "  if i % 3 == 0 :\n",
    "    cnt += 1\n",
    "    print(i, end=' ')\n",
    "\n",
    "print(cnt)"
   ]
  },
  {
   "cell_type": "code",
   "execution_count": 20,
   "metadata": {},
   "outputs": [
    {
     "name": "stdout",
     "output_type": "stream",
     "text": [
      "0\n"
     ]
    }
   ],
   "source": [
    "# 3. 키보드로 입력받은 두 정수 사이(입력받은 정수는 미포함)의 모든 수의 합을 출력\n",
    "num1 = int(input())\n",
    "num2 = int(input())\n",
    "sum = 0\n",
    "if num1 > num2 :\n",
    "  for i in range(num2+1, num1) :\n",
    "    sum += i\n",
    "elif num2 > num1 : \n",
    "  for i in range(num1+1, num2) :\n",
    "    sum += i\n",
    "print(sum)"
   ]
  },
  {
   "cell_type": "code",
   "execution_count": 23,
   "metadata": {},
   "outputs": [
    {
     "name": "stdout",
     "output_type": "stream",
     "text": [
      "13\n"
     ]
    }
   ],
   "source": [
    "# 3. 키보드로 입력받은 두 정수 사이(입력받은 정수는 미포함)의 모든 수의 합을 출력\n",
    "num1 = int(input())\n",
    "num2 = int(input())\n",
    "\n",
    "# 큰 수, 작은 수 삼항연산자로 계산\n",
    "# 자바 : 조건 ? 참일때 값 : 거짓일 때 값\n",
    "# 파이썬 : 참일때 값 if 조건 else 거짓일 때 값\n",
    "max = num1 if num1 > num2 else num2\n",
    "min = num1 if num1 < num2 else num2\n",
    "sum = 0\n",
    "for i in range(min +1, max) :\n",
    "  sum += i\n",
    "print(sum)"
   ]
  },
  {
   "cell_type": "code",
   "execution_count": 24,
   "metadata": {},
   "outputs": [
    {
     "name": "stdout",
     "output_type": "stream",
     "text": [
      "포함\n",
      "포함\n"
     ]
    }
   ],
   "source": [
    "# 4. 아래에 제시한 data에서 5가 포함되어 있는지 판단하고,  5가 포함되어 있으면 '포함'을 출력\n",
    "data = [1,3,5,7,9]\n",
    "\n",
    "# 자바식 접근법\n",
    "for i in data : \n",
    "  if i == 5 : \n",
    "    print('포함')\n",
    "\n",
    "# 파이썬식 접근법\n",
    "if 5 in data :\n",
    "  print('포함')"
   ]
  }
 ],
 "metadata": {
  "kernelspec": {
   "display_name": "Python 3",
   "language": "python",
   "name": "python3"
  },
  "language_info": {
   "codemirror_mode": {
    "name": "ipython",
    "version": 3
   },
   "file_extension": ".py",
   "mimetype": "text/x-python",
   "name": "python",
   "nbconvert_exporter": "python",
   "pygments_lexer": "ipython3",
   "version": "3.12.5"
  }
 },
 "nbformat": 4,
 "nbformat_minor": 2
}
