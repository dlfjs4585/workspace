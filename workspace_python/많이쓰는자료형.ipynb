{
 "cells": [
  {
   "cell_type": "code",
   "execution_count": null,
   "metadata": {},
   "outputs": [],
   "source": [
    "# java - list, arrow / javascript - arrow\n",
    "# python - list\n",
    "\n",
    "# java - class / javascript - object\n",
    "# python - dictionary"
   ]
  },
  {
   "cell_type": "code",
   "execution_count": 7,
   "metadata": {},
   "outputs": [
    {
     "name": "stdout",
     "output_type": "stream",
     "text": [
      "[1, 2, 3, '피', '곤', '해']\n",
      "1\n",
      "해\n",
      "6\n"
     ]
    }
   ],
   "source": [
    "# list\n",
    "# 주의사항 : 변수명으로 list 사용 금지!!\n",
    "\n",
    "list1 = [1,2,3,'피','곤','해']\n",
    "print(list1)\n",
    "print(list1[0])\n",
    "print(list1[5])\n",
    "print(len(list1))"
   ]
  },
  {
   "cell_type": "code",
   "execution_count": 12,
   "metadata": {},
   "outputs": [
    {
     "name": "stdout",
     "output_type": "stream",
     "text": [
      "{'stuNum': 1, 'name': '자바', 'score': 60}\n",
      "자바\n"
     ]
    }
   ],
   "source": [
    "# dictionary\n",
    "\n",
    "student = {'stuNum' : 1\n",
    "          , 'name' : '자바'\n",
    "          ,'score' : 60\n",
    "}\n",
    "\n",
    "print(student)\n",
    "print(student['name'])"
   ]
  }
 ],
 "metadata": {
  "kernelspec": {
   "display_name": "Python 3",
   "language": "python",
   "name": "python3"
  },
  "language_info": {
   "codemirror_mode": {
    "name": "ipython",
    "version": 3
   },
   "file_extension": ".py",
   "mimetype": "text/x-python",
   "name": "python",
   "nbconvert_exporter": "python",
   "pygments_lexer": "ipython3",
   "version": "3.12.5"
  }
 },
 "nbformat": 4,
 "nbformat_minor": 2
}
