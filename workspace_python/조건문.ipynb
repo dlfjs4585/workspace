{
 "cells": [
  {
   "cell_type": "code",
   "execution_count": 15,
   "metadata": {},
   "outputs": [
    {
     "name": "stdout",
     "output_type": "stream",
     "text": [
      "2\n"
     ]
    }
   ],
   "source": [
    "# 파이썬은 중괄호가 없다.\n",
    "\n",
    "num = 3\n",
    "\n",
    "if num > 4 :\n",
    "  print(1)\n",
    "elif num < 10 :\n",
    "  print(2)"
   ]
  },
  {
   "cell_type": "code",
   "execution_count": 23,
   "metadata": {},
   "outputs": [
    {
     "name": "stdout",
     "output_type": "stream",
     "text": [
      "피\n",
      "곤\n",
      "해\n"
     ]
    }
   ],
   "source": [
    "# 조건문의 영역은 어디까지??\n",
    "# 파이썬의 모든 문법은 들여쓰기로 판단한다.\n",
    "\n",
    "if 10 > 4 :\n",
    "  print('피')\n",
    "  print('곤')\n",
    "  print('해')\n",
    "\n"
   ]
  },
  {
   "cell_type": "code",
   "execution_count": 1,
   "metadata": {},
   "outputs": [
    {
     "name": "stdout",
     "output_type": "stream",
     "text": [
      "6\n"
     ]
    }
   ],
   "source": [
    "# 키보드로 두 정수를 입력받아 두 정수 중 큰 수를 출력\n",
    "\n",
    "num1 = int(input())\n",
    "num2 = int(input())\n",
    "if num1 > num2 :\n",
    "  max = num1\n",
    "elif num2 > num1 :\n",
    "  max = num2\n",
    "print(max)"
   ]
  },
  {
   "cell_type": "code",
   "execution_count": null,
   "metadata": {},
   "outputs": [],
   "source": []
  }
 ],
 "metadata": {
  "kernelspec": {
   "display_name": "Python 3",
   "language": "python",
   "name": "python3"
  },
  "language_info": {
   "codemirror_mode": {
    "name": "ipython",
    "version": 3
   },
   "file_extension": ".py",
   "mimetype": "text/x-python",
   "name": "python",
   "nbconvert_exporter": "python",
   "pygments_lexer": "ipython3",
   "version": "3.12.5"
  }
 },
 "nbformat": 4,
 "nbformat_minor": 2
}
