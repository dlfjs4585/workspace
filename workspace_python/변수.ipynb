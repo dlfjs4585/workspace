{
 "cells": [
  {
   "cell_type": "markdown",
   "metadata": {},
   "source": [
    "### 변수\n",
    "1. 파이썬은 자료형이 자바랑 다르게 눈에 보이지 않는다.\n",
    "2. 변수명은 자바와 동일한 형식으로 지정, 중복 불가"
   ]
  },
  {
   "cell_type": "code",
   "execution_count": 22,
   "metadata": {},
   "outputs": [
    {
     "name": "stdout",
     "output_type": "stream",
     "text": [
      "5\n"
     ]
    }
   ],
   "source": [
    "# 숫자를 저장하는 변수 선언 및 값 할당\n",
    "num1 = 5\n",
    "print(num1)"
   ]
  },
  {
   "cell_type": "code",
   "execution_count": 20,
   "metadata": {},
   "outputs": [
    {
     "name": "stdout",
     "output_type": "stream",
     "text": [
      "32.5\n",
      "<class 'str'>\n",
      "<class 'int'>\n",
      "python\n"
     ]
    }
   ],
   "source": [
    "# 눈에 보이지 않지만 자료형이 존재한다.\n",
    "num1 = 2\n",
    "num2 = 20\n",
    "num3 = 10.5\n",
    "strData = 'python'\n",
    "print(num1 + num2 + num3)\n",
    "\n",
    "#type() 함수는 매개변수로 전달된 데이터의 자료형을 알려줌\n",
    "print(type(strData))\n",
    "print(type(num1))\n",
    "\n",
    "# 정수가 저장된 변수에 문자열이나 실수처럼 다른 자료형이 저장 될까?\n",
    "num4 = 21\n",
    "num4 = 'python'\n",
    "print(num4)"
   ]
  },
  {
   "cell_type": "code",
   "execution_count": 27,
   "metadata": {},
   "outputs": [
    {
     "name": "stdout",
     "output_type": "stream",
     "text": [
      "내 이름은 홍길동입니다.\n"
     ]
    }
   ],
   "source": [
    "# 포맷 출력(자바스크립트의 빽틱과 동일)\n",
    "name = '홍길동'\n",
    "print('내 이름은 '+name+'입니다.')\n",
    "\n",
    "age = 20"
   ]
  },
  {
   "cell_type": "code",
   "execution_count": 28,
   "metadata": {},
   "outputs": [
    {
     "name": "stdout",
     "output_type": "stream",
     "text": [
      "제 이름은 홍길동이고, 나이는 20살 입니다.\n"
     ]
    }
   ],
   "source": [
    "name = '홍길동'\n",
    "age = 20\n",
    "\n",
    "# 제 이름은 홍길동이고, 나이는 20살 입니다.\n",
    "print(f'제 이름은 {name}이고, 나이는 {age}살 입니다.')"
   ]
  }
 ],
 "metadata": {
  "kernelspec": {
   "display_name": "Python 3",
   "language": "python",
   "name": "python3"
  },
  "language_info": {
   "codemirror_mode": {
    "name": "ipython",
    "version": 3
   },
   "file_extension": ".py",
   "mimetype": "text/x-python",
   "name": "python",
   "nbconvert_exporter": "python",
   "pygments_lexer": "ipython3",
   "version": "3.12.5"
  }
 },
 "nbformat": 4,
 "nbformat_minor": 2
}
