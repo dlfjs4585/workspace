{
 "cells": [
  {
   "cell_type": "code",
   "execution_count": 7,
   "metadata": {},
   "outputs": [
    {
     "name": "stdout",
     "output_type": "stream",
     "text": [
      "입력받은 수는 입니다.\n"
     ]
    }
   ],
   "source": [
    "# 키보드로 입력받기\n",
    "# input() 함수 사용으로 키보드로 값을 입력받을 수 있다.\n",
    "# input() 함수를 사용하여 입력받은 값은 문자열로 인식한다.\n",
    "num = input('숫자를 입력하세요 : ')\n",
    "print(f'입력받은 수는 {num}입니다.')"
   ]
  },
  {
   "cell_type": "code",
   "execution_count": 18,
   "metadata": {},
   "outputs": [
    {
     "name": "stdout",
     "output_type": "stream",
     "text": [
      "23\n"
     ]
    }
   ],
   "source": [
    "# 두 정수를 입력받아 두 정수의 합을 출력\n",
    "num1 = int(input())\n",
    "num2 = int(input())\n",
    "print(num1 + num2)"
   ]
  },
  {
   "cell_type": "code",
   "execution_count": 19,
   "metadata": {},
   "outputs": [
    {
     "name": "stdout",
     "output_type": "stream",
     "text": [
      "이름은 10, 국어점수 : 10, 영어점수 : 20, 수학점수 : 30, 총점 : 60, 평균 : 20.0\n"
     ]
    }
   ],
   "source": [
    "\n",
    "# 키보드로 학생의 이름, 나이, 국어점수, 영어점수, 수학점수를 입력받아\n",
    "# 입력받은 학생의 이름, 나이, 국어점수, 영어점수, 수학점수 및 총점,평균도 출력\n",
    "name = input()\n",
    "korScore = int(input())\n",
    "engScore = int(input())\n",
    "mathScore = int(input())\n",
    "\n",
    "print(f'이름은 {name}, 국어점수 : {korScore}, 영어점수 : {engScore}, 수학점수 : {mathScore}, 총점 : {korScore + engScore + mathScore}, 평균 : {(korScore + engScore + mathScore) / 3}')\n"
   ]
  }
 ],
 "metadata": {
  "kernelspec": {
   "display_name": "Python 3",
   "language": "python",
   "name": "python3"
  },
  "language_info": {
   "codemirror_mode": {
    "name": "ipython",
    "version": 3
   },
   "file_extension": ".py",
   "mimetype": "text/x-python",
   "name": "python",
   "nbconvert_exporter": "python",
   "pygments_lexer": "ipython3",
   "version": "3.12.5"
  }
 },
 "nbformat": 4,
 "nbformat_minor": 2
}
