{
 "cells": [
  {
   "cell_type": "markdown",
   "metadata": {},
   "source": [
    "### jupyter 단축키\n",
    "* y : y는 코드를 실행 할 수 있는 cell 변환\n",
    "* m : Markdown으로 쓸 수 있는 cell 변환\n",
    "* Ctrl + Enter : cell 실행\n",
    "* Ctrl + Space : 코드 자동완성\n",
    "* Shift + Enter : 입력 셀 실행 후 아래 셀로 이동 (없으면 새로운 셀 추가)\n",
    "* a : 위에 새로운 셀 추가\n",
    "* b : 아래에 새로운 셀 추가\n",
    "* dd : 셀 삭제하기"
   ]
  },
  {
   "cell_type": "markdown",
   "metadata": {},
   "source": [
    "#### 1. 파이썬에서의 출력문"
   ]
  },
  {
   "cell_type": "code",
   "execution_count": 39,
   "metadata": {},
   "outputs": [
    {
     "name": "stdout",
     "output_type": "stream",
     "text": [
      "5\n",
      "배고프다\n",
      "배고파\n"
     ]
    }
   ],
   "source": [
    "# 파이썬에서 출력 할 때는 print() 함수 사용\n",
    "# () 안에 내용 출력\n",
    "# 파이썬에서 문자열을 출력할때는 홀따옴표 '', 쌍따옴표 \"\"로 감싼다.\n",
    "print(5)\n",
    "print('배고프다')\n",
    "print(\"배고파\")"
   ]
  },
  {
   "cell_type": "code",
   "execution_count": 48,
   "metadata": {},
   "outputs": [
    {
     "name": "stdout",
     "output_type": "stream",
     "text": [
      "9\n",
      "2.5\n",
      "2\n",
      "2\n"
     ]
    }
   ],
   "source": [
    "# 출력문 안에서 연산식은 연산결과를 출력\n",
    "print(5+4)\n",
    "print(10/4)\n",
    "print(10//4) # 나눗셈의 몫\n",
    "print(10 % 4)"
   ]
  },
  {
   "cell_type": "code",
   "execution_count": 53,
   "metadata": {},
   "outputs": [
    {
     "name": "stdout",
     "output_type": "stream",
     "text": [
      "hello\n",
      "hello\n"
     ]
    }
   ],
   "source": [
    "# 문자열 출력\n",
    "print('he' + 'llo')\n",
    "print('he' + \"llo\")\n",
    "# print('he' + \"llo\" + 5) 문자열끼리 더하기 또는 숫자끼리 연산만 가능"
   ]
  },
  {
   "cell_type": "code",
   "execution_count": 1,
   "metadata": {},
   "outputs": [
    {
     "name": "stdout",
     "output_type": "stream",
     "text": [
      "10 20 python\n"
     ]
    }
   ],
   "source": [
    "# 파이썬 만의 문법\n",
    "print(10, 20, 'python')"
   ]
  },
  {
   "cell_type": "code",
   "execution_count": 1,
   "metadata": {},
   "outputs": [
    {
     "name": "stdout",
     "output_type": "stream",
     "text": [
      "python python "
     ]
    }
   ],
   "source": [
    "# print() 함수의 end 매개변수의 값을 변경해서 출력 후 실행 할 내용을 변경 가능\n",
    "print('python', end=' ')\n",
    "print('python', end=' ')"
   ]
  }
 ],
 "metadata": {
  "kernelspec": {
   "display_name": "Python 3",
   "language": "python",
   "name": "python3"
  },
  "language_info": {
   "codemirror_mode": {
    "name": "ipython",
    "version": 3
   },
   "file_extension": ".py",
   "mimetype": "text/x-python",
   "name": "python",
   "nbconvert_exporter": "python",
   "pygments_lexer": "ipython3",
   "version": "3.12.5"
  }
 },
 "nbformat": 4,
 "nbformat_minor": 2
}
